{
  "nbformat": 4,
  "nbformat_minor": 0,
  "metadata": {
    "colab": {
      "provenance": []
    },
    "kernelspec": {
      "name": "python3",
      "display_name": "Python 3"
    },
    "language_info": {
      "name": "python"
    }
  },
  "cells": [
    {
      "cell_type": "code",
      "execution_count": 5,
      "metadata": {
        "colab": {
          "base_uri": "https://localhost:8080/"
        },
        "id": "a8-rI9POfEuR",
        "outputId": "d6f24074-b73e-4255-d17c-c38b4ada6e35"
      },
      "outputs": [
        {
          "output_type": "stream",
          "name": "stdout",
          "text": [
            "Base: 10\n",
            "Altura: 5\n",
            "Area:  25.0\n"
          ]
        }
      ],
      "source": [
        "class triangulo:\n",
        "    def __init__(self):\n",
        "        self.base=0\n",
        "        self.altura=0\n",
        "        self.area=0\n",
        "\n",
        "    def leer(self):\n",
        "             self.base=int(input(\"Base: \"))\n",
        "             self.altura=int(input(\"Altura: \"))\n",
        "    def calcular(self):\n",
        "        self.area=(self.base*self.altura)/2\n",
        "\n",
        "    def mostrar(self):\n",
        "        print(\"Area: \", self.area)\n",
        "\n",
        "\n",
        "triangulo_instance = triangulo()\n",
        "triangulo_instance.leer()\n",
        "triangulo_instance.calcular()\n",
        "triangulo_instance.mostrar()"
      ]
    }
  ]
}