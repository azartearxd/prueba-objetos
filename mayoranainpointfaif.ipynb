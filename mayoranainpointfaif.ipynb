{
  "nbformat": 4,
  "nbformat_minor": 0,
  "metadata": {
    "colab": {
      "provenance": []
    },
    "kernelspec": {
      "name": "python3",
      "display_name": "Python 3"
    },
    "language_info": {
      "name": "python"
    }
  },
  "cells": [
    {
      "cell_type": "code",
      "execution_count": 3,
      "metadata": {
        "colab": {
          "base_uri": "https://localhost:8080/"
        },
        "id": "DL9aQsmv9D9S",
        "outputId": "0da99968-8195-44cf-e205-c11769f37343"
      },
      "outputs": [
        {
          "output_type": "stream",
          "name": "stdout",
          "text": [
            "Ingrese el nombre del alumno: a\n",
            "Ingrese la calificacion del alumno: 10\n",
            "Ingrese el nombre del alumno: b\n",
            "Ingrese la calificacion del alumno: 9\n",
            "Ingrese el nombre del alumno: c\n",
            "Ingrese la calificacion del alumno: 8\n",
            "Ingrese el nombre del alumno: d\n",
            "Ingrese la calificacion del alumno: 7\n",
            "Ingrese el nombre del alumno: e\n",
            "Ingrese la calificacion del alumno: 6\n",
            "Ingrese el nombre del alumno: f\n",
            "Ingrese la calificacion del alumno: 5\n",
            "Ingrese el nombre del alumno: g\n",
            "Ingrese la calificacion del alumno: 4\n",
            "Ingrese el nombre del alumno: h\n",
            "Ingrese la calificacion del alumno: 3\n",
            "Ingrese el nombre del alumno: i\n",
            "Ingrese la calificacion del alumno: 2\n",
            "Ingrese el nombre del alumno: j\n",
            "Ingrese la calificacion del alumno: 1\n",
            "promedio: 5.5\n",
            "Mayor a 9.5: ['a']\n"
          ]
        }
      ],
      "source": [
        "class calificaciones:\n",
        "  def __init__(self):\n",
        "    self.alumnos = []\n",
        "    self.promedio = 0\n",
        "    self.mejores = []\n",
        "    self.calificaciones = []\n",
        "\n",
        "  def leer(self, n=10):\n",
        "    for i in range(n):\n",
        "      nombre = input(\"Ingrese el nombre del alumno: \")\n",
        "      calificacion = float(input(\"Ingrese la calificacion del alumno: \"))\n",
        "      self.alumnos.append((nombre, calificacion))\n",
        "      self.calificaciones.append(calificacion)\n",
        "\n",
        "  def calcular_promedio(self):\n",
        "    if self.calificaciones:\n",
        "      self.promedio = sum(self.calificaciones) / len(self.calificaciones)\n",
        "      self.promedio = 0\n",
        "    self.mejores = [n for n, g in self.alumnos if g >= 9.5]\n",
        "\n",
        "  def mostrar(self):\n",
        "    print(f\"promedio: {self.promedio}\")\n",
        "    print(f\"Mayor a 9.5: {self.mejores}\")\n",
        "\n",
        "calificaciones = calificaciones()\n",
        "calificaciones.leer()\n",
        "calificaciones.calcular_promedio()\n",
        "calificaciones.mostrar()"
      ]
    }
  ]
}