{
  "nbformat": 4,
  "nbformat_minor": 0,
  "metadata": {
    "colab": {
      "provenance": []
    },
    "kernelspec": {
      "name": "python3",
      "display_name": "Python 3"
    },
    "language_info": {
      "name": "python"
    }
  },
  "cells": [
    {
      "cell_type": "code",
      "execution_count": 15,
      "metadata": {
        "colab": {
          "base_uri": "https://localhost:8080/"
        },
        "id": "-P2bPsBj1W01",
        "outputId": "f5ff2669-056e-488c-a74b-1c8a09dfdf0a"
      },
      "outputs": [
        {
          "output_type": "stream",
          "name": "stdout",
          "text": [
            "nombre del alumno: 10\n",
            "edad del alumno: 10\n",
            "peso del alumno: 10\n",
            "promedio del alumno: 10\n",
            "El nombre del alumno es:  10\n",
            "La edad del alumno es:  10\n",
            "El peso del alumno es:  10\n",
            "El promedio del alumno es:  10\n",
            "No esta en asesorias\n",
            "No fue por inscripcion\n"
          ]
        }
      ],
      "source": [
        "class ALUMNO():\n",
        "  nombre = (input(\"nombre del alumno: \"))\n",
        "  edad = int(input(\"edad del alumno: \"))\n",
        "  peso = int(input(\"peso del alumno: \"))\n",
        "  promedio = int(input(\"promedio del alumno: \"))\n",
        "  asesorias = False\n",
        "  Inscripcion = False\n",
        "\n",
        "  def siase(self):\n",
        "    self.asesorias = True\n",
        "\n",
        "  def ase(self):\n",
        "    if(self.asesorias):\n",
        "      return \"Esta en asesorias\"\n",
        "    else:\n",
        "      return \"No esta en asesorias\"\n",
        "\n",
        "    def siins(self):\n",
        "      self.inscripcion = True\n",
        "\n",
        "  def ins(self):\n",
        "    if(self.asesorias):\n",
        "      return \"Por inscripcion\"\n",
        "    else:\n",
        "      return \"No fue por inscripcion\"\n",
        "\n",
        "\n",
        "\n",
        "\n",
        "\n",
        "alumnoa = ALUMNO()\n",
        "print(\"El nombre del alumno es: \", ALUMNO.nombre)\n",
        "print(\"La edad del alumno es: \", ALUMNO.edad)\n",
        "print(\"El peso del alumno es: \", ALUMNO.peso)\n",
        "print(\"El promedio del alumno es: \", ALUMNO.promedio)\n",
        "print(alumnoa.ase())\n",
        "print(alumnoa.ins())\n",
        "\n",
        "\n"
      ]
    }
  ]
}